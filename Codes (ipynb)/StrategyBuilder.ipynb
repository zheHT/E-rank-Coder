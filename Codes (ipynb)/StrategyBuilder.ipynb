{
  "nbformat": 4,
  "nbformat_minor": 0,
  "metadata": {
    "colab": {
      "provenance": []
    },
    "kernelspec": {
      "name": "python3",
      "display_name": "Python 3"
    },
    "language_info": {
      "name": "python"
    }
  },
  "cells": [
    {
      "cell_type": "code",
      "source": [
        "# Install necessary libraries:\n",
        "# - `hmmlearn` for building Hidden Markov Models\n",
        "# - `python-dotenv` for managing environment variables (not used in this script but useful for storing API keys securely)\n",
        "\n",
        "!pip install hmmlearn python-dotenv\n"
      ],
      "metadata": {
        "id": "WJ4JPHmf2nKV"
      },
      "execution_count": null,
      "outputs": []
    },
    {
      "cell_type": "code",
      "source": [
        "# Define the API key and base URL for accessing CyboTrade's API\n",
        "\n",
        "API_KEY = \"gUnQPbcHdQpfH53PhGOjVE9z0vrEkIQiCIbkih868kGjEHaO\"\n",
        "BASE_URL = \"https://api.datasource.cybotrade.rs\"\n"
      ],
      "metadata": {
        "id": "5rLMM08R2tmg"
      },
      "execution_count": null,
      "outputs": []
    },
    {
      "cell_type": "code",
      "source": [
        "import numpy as np\n",
        "\n",
        "# Backtesting function to evaluate trading strategy performance\n",
        "\n",
        "def backtest(df):\n",
        "    # Calculate percentage change in closing prices (returns)\n",
        "    df['returns'] = df['close'].pct_change()\n",
        "    # Multiply position (0 or 1) by returns to get strategy's return\n",
        "    df['strategy_returns'] = df['position'] * df['returns']\n",
        "    # Calculate Sharpe Ratio (risk-adjusted return)\n",
        "    sharpe = np.mean(df['strategy_returns']) / np.std(df['strategy_returns']) * np.sqrt(252)\n",
        "    # Calculate maximum drawdown (biggest drop from peak in cumulative returns)\n",
        "    drawdown = (df['strategy_returns'].cumsum() - df['strategy_returns'].cumsum().cummax()).min()\n",
        "    # Calculate how many times the position changed (i.e., frequency of trades)\n",
        "    trade_freq = df['position'].diff().abs().sum()\n",
        "    # Return strategy performance metrics\n",
        "    return {\n",
        "        \"Sharpe Ratio\": round(sharpe, 2),\n",
        "        \"Max Drawdown\": round(drawdown, 2),\n",
        "        \"Trade Frequency\": round(trade_freq, 2)\n",
        "    }\n"
      ],
      "metadata": {
        "id": "z6ibMhF621pd"
      },
      "execution_count": null,
      "outputs": []
    },
    {
      "cell_type": "code",
      "source": [
        "import requests\n",
        "import pandas as pd\n",
        "\n",
        "# Function to fetch historical BTC/USDT price data from CyboTrade API\n",
        "def get_btc_data_cybo(symbol=\"BTCUSDT\", interval=\"1h\", limit=100):\n",
        "    # Create full API endpoint with query parameters\n",
        "    endpoint = f\"/bybit-linear/candle?symbol={symbol}&interval={interval}&limit={limit}\"\n",
        "    url = BASE_URL + endpoint\n",
        "    headers = {\"X-API-Key\": API_KEY}\n",
        "\n",
        "    # Send GET request to CyboTrade API\n",
        "    response = requests.get(url, headers=headers)\n",
        "\n",
        "    # Check if request was successful\n",
        "    if response.status_code == 200:\n",
        "        json_data = response.json()\n",
        "        # Validate that data exists and is in the correct format\n",
        "        if \"data\" not in json_data or not isinstance(json_data[\"data\"], list):\n",
        "            raise Exception(\"❌ Unexpected data format received from API.\")\n",
        "\n",
        "        # Convert JSON data to Pandas DataFrame\n",
        "        df = pd.DataFrame(json_data[\"data\"])\n",
        "        # Convert timestamp to datetime and set as index\n",
        "        df[\"start_time\"] = pd.to_datetime(df[\"start_time\"], unit=\"ms\")\n",
        "        df.set_index(\"start_time\", inplace=True)\n",
        "        # Return only the relevant OHLCV columns\n",
        "        return df[[\"open\", \"high\", \"low\", \"close\", \"volume\"]]\n",
        "    else:\n",
        "        # Print error details and raise an exception\n",
        "        print(\"Status code:\", response.status_code)\n",
        "        print(\"Raw response text:\", response.text)\n",
        "        raise Exception(f\"❌ Failed to fetch data: {response.status_code}\")\n"
      ],
      "metadata": {
        "id": "fbuVU5TJ24h5"
      },
      "execution_count": null,
      "outputs": []
    },
    {
      "cell_type": "code",
      "source": [
        "# Function to add technical features to the DataFrame for HMM training\n",
        "def add_features(df):\n",
        "    # 10-period moving average\n",
        "    df['ma_10'] = df['close'].rolling(window=10).mean()\n",
        "    # 50-period moving average\n",
        "    df['ma_50'] = df['close'].rolling(window=50).mean()\n",
        "    # Rolling volatility (standard deviation)\n",
        "    df['volatility'] = df['close'].rolling(window=10).std()\n",
        "    # Momentum as difference from price 10 steps ago\n",
        "    df['momentum'] = df['close'] - df['close'].shift(10)\n",
        "    # Ratio of price to moving average (price deviation)\n",
        "    df['price_to_ma'] = df['close'] / df['ma_10']\n",
        "    # Drop rows with NaN values caused by rolling operations\n",
        "    df.dropna(inplace=True)\n",
        "    return df\n"
      ],
      "metadata": {
        "id": "lP7znQVn27X9"
      },
      "execution_count": null,
      "outputs": []
    },
    {
      "cell_type": "code",
      "source": [
        "from hmmlearn.hmm import GaussianHMM\n",
        "\n",
        "# Function to train a Hidden Markov Model on technical features\n",
        "def train_hmm_model(df, n_states=3):\n",
        "    # Select features for model training\n",
        "    features = df[['momentum', 'volatility', 'price_to_ma']].values\n",
        "    # Initialize Gaussian HMM with specified number of states\n",
        "    model = GaussianHMM(n_components=n_states, covariance_type=\"full\", n_iter=1000)\n",
        "    # Fit HMM model to features\n",
        "    model.fit(features)\n",
        "    # Predict hidden states and add to DataFrame\n",
        "    df['state'] = model.predict(features)\n",
        "    return df, model\n"
      ],
      "metadata": {
        "id": "Vz3ZteFj29_C"
      },
      "execution_count": null,
      "outputs": []
    },
    {
      "cell_type": "code",
      "source": [
        "# Function to generate buy signals based on HMM state predictions\n",
        "def generate_signals(df):\n",
        "    # Initialize signal column to 0 (no action)\n",
        "    df['signal'] = 0\n",
        "    # Assign signal = 1 to the most frequent state (assumed bullish)\n",
        "    df.loc[df['state'] == df['state'].mode()[0], 'signal'] = 1\n",
        "    # Shift signal to generate positions (entry is based on previous signal)\n",
        "    df['position'] = df['signal'].shift().fillna(0)\n",
        "    return df\n"
      ],
      "metadata": {
        "id": "dnEmCi2g3Ae8"
      },
      "execution_count": null,
      "outputs": []
    },
    {
      "cell_type": "code",
      "source": [
        "# Get historical price data\n",
        "df = get_btc_data_cybo()\n",
        "print(df.tail())\n",
        "\n",
        "# If data has multi-level columns (unlikely here), flatten it\n",
        "if isinstance(df.columns, pd.MultiIndex):\n",
        "    df.columns = df.columns.get_level_values(-1)\n",
        "\n",
        "# Add technical indicators\n",
        "df = add_features(df)\n",
        "# Train HMM and classify states\n",
        "df, model = train_hmm_model(df)\n",
        "# Generate trading signals based on dominant state\n",
        "df = generate_signals(df)\n",
        "# Run backtest to evaluate the strategy\n",
        "results = backtest(df)\n",
        "\n",
        "# Print strategy metrics\n",
        "print(\"\\n📊 Strategy Metrics:\")\n",
        "for k, v in results.items():\n",
        "    print(f\"{k}: {v}\")\n"
      ],
      "metadata": {
        "id": "puGIXitx3C5Q"
      },
      "execution_count": null,
      "outputs": []
    }
  ]
}